{
 "cells": [
  {
   "cell_type": "markdown",
   "metadata": {
    "id": "ighIhhiLaBtR"
   },
   "source": [
    "## Practical Exercise 1: word2vec\n",
    "By Joline Janz and Frederik Wollatz"
   ]
  },
  {
   "cell_type": "markdown",
   "metadata": {},
   "source": [
    "Each Notebook will contribute equaly to your final grade."
   ]
  },
  {
   "cell_type": "markdown",
   "metadata": {
    "id": "qCmr1p64aBtW"
   },
   "source": [
    "This practical Exercise is presented as an IPython Notebook, with the code written for recent versions of **Python 3**. \n",
    "\n",
    "To execute a notebook cell, press `shift-enter`. The return value of the last command will be displayed, if it is not `None`.\n",
    "\n",
    "Potentially useful library documentation, references, and resources:\n",
    "\n",
    "* IPython notebooks: <https://ipython.org/ipython-doc/3/notebook/notebook.html#introduction>\n",
    "* Numpy numerical array library: <https://docs.scipy.org/doc/>\n",
    "* Gensim's word2vec: <https://radimrehurek.com/gensim/models/word2vec.html>\n",
    "* Bokeh interactive plots: <http://bokeh.pydata.org/en/latest/> (we provide plotting code here, but click the thumbnails for more examples to copy-paste)\n",
    "* scikit-learn ML library (aka `sklearn`): <http://scikit-learn.org/stable/documentation.html>\n",
    "* nltk NLP toolkit: <http://www.nltk.org/>\n",
    "* tutorial for processing xml in python using `lxml`: <http://lxml.de/tutorial.html> (we did this for you below, but in case you need it in the future)"
   ]
  },
  {
   "cell_type": "markdown",
   "metadata": {},
   "source": [
    "In this Notebook you will learn the basics on how to construct a word-embedding. As you recall from the lecture, word-embeddings are a type of word representation that allows words with similar meaning to have a similar representation. To do this, words are represented as real-valued vectors in a predefined vector space. Additionally, you will also learn how to use some basic NLP tools like tokenization and regular Expressions!\n",
    "Good Luck!"
   ]
  },
  {
   "cell_type": "code",
   "execution_count": 1,
   "metadata": {
    "id": "569W6MImaBtX"
   },
   "outputs": [],
   "source": [
    "import numpy as np\n",
    "import os\n",
    "from random import shuffle\n",
    "import re"
   ]
  },
  {
   "cell_type": "code",
   "execution_count": 2,
   "metadata": {},
   "outputs": [
    {
     "name": "stdout",
     "output_type": "stream",
     "text": [
      "Requirement already satisfied: bokeh in c:\\users\\pariy\\anaconda3\\envs\\cv\\lib\\site-packages (2.2.3)\n",
      "Requirement already satisfied: python-dateutil>=2.1 in c:\\users\\pariy\\anaconda3\\envs\\cv\\lib\\site-packages (from bokeh) (2.8.1)Note: you may need to restart the kernel to use updated packages.\n",
      "\n",
      "Requirement already satisfied: Jinja2>=2.7 in c:\\users\\pariy\\anaconda3\\envs\\cv\\lib\\site-packages (from bokeh) (2.11.2)\n",
      "Requirement already satisfied: numpy>=1.11.3 in c:\\users\\pariy\\anaconda3\\envs\\cv\\lib\\site-packages (from bokeh) (1.19.2)\n",
      "Requirement already satisfied: PyYAML>=3.10 in c:\\users\\pariy\\anaconda3\\envs\\cv\\lib\\site-packages (from bokeh) (5.3.1)\n",
      "Requirement already satisfied: typing-extensions>=3.7.4 in c:\\users\\pariy\\anaconda3\\envs\\cv\\lib\\site-packages (from bokeh) (3.7.4.3)\n",
      "Requirement already satisfied: pillow>=7.1.0 in c:\\users\\pariy\\anaconda3\\envs\\cv\\lib\\site-packages (from bokeh) (8.0.0)\n",
      "Requirement already satisfied: packaging>=16.8 in c:\\users\\pariy\\anaconda3\\envs\\cv\\lib\\site-packages (from bokeh) (20.4)\n",
      "Requirement already satisfied: tornado>=5.1 in c:\\users\\pariy\\anaconda3\\envs\\cv\\lib\\site-packages (from bokeh) (6.0.4)\n",
      "Requirement already satisfied: six>=1.5 in c:\\users\\pariy\\anaconda3\\envs\\cv\\lib\\site-packages (from python-dateutil>=2.1->bokeh) (1.15.0)\n",
      "Requirement already satisfied: MarkupSafe>=0.23 in c:\\users\\pariy\\anaconda3\\envs\\cv\\lib\\site-packages (from Jinja2>=2.7->bokeh) (1.1.1)\n",
      "Requirement already satisfied: pyparsing>=2.0.2 in c:\\users\\pariy\\anaconda3\\envs\\cv\\lib\\site-packages (from packaging>=16.8->bokeh) (2.4.7)\n"
     ]
    }
   ],
   "source": [
    "pip install bokeh"
   ]
  },
  {
   "cell_type": "code",
   "execution_count": 3,
   "metadata": {
    "id": "rsgimgrUaBtd"
   },
   "outputs": [
    {
     "data": {
      "text/html": [
       "\n",
       "    <div class=\"bk-root\">\n",
       "        <a href=\"https://bokeh.org\" target=\"_blank\" class=\"bk-logo bk-logo-small bk-logo-notebook\"></a>\n",
       "        <span id=\"1001\">Loading BokehJS ...</span>\n",
       "    </div>"
      ]
     },
     "metadata": {},
     "output_type": "display_data"
    },
    {
     "data": {
      "application/javascript": [
       "\n",
       "(function(root) {\n",
       "  function now() {\n",
       "    return new Date();\n",
       "  }\n",
       "\n",
       "  var force = true;\n",
       "\n",
       "  if (typeof root._bokeh_onload_callbacks === \"undefined\" || force === true) {\n",
       "    root._bokeh_onload_callbacks = [];\n",
       "    root._bokeh_is_loading = undefined;\n",
       "  }\n",
       "\n",
       "  var JS_MIME_TYPE = 'application/javascript';\n",
       "  var HTML_MIME_TYPE = 'text/html';\n",
       "  var EXEC_MIME_TYPE = 'application/vnd.bokehjs_exec.v0+json';\n",
       "  var CLASS_NAME = 'output_bokeh rendered_html';\n",
       "\n",
       "  /**\n",
       "   * Render data to the DOM node\n",
       "   */\n",
       "  function render(props, node) {\n",
       "    var script = document.createElement(\"script\");\n",
       "    node.appendChild(script);\n",
       "  }\n",
       "\n",
       "  /**\n",
       "   * Handle when an output is cleared or removed\n",
       "   */\n",
       "  function handleClearOutput(event, handle) {\n",
       "    var cell = handle.cell;\n",
       "\n",
       "    var id = cell.output_area._bokeh_element_id;\n",
       "    var server_id = cell.output_area._bokeh_server_id;\n",
       "    // Clean up Bokeh references\n",
       "    if (id != null && id in Bokeh.index) {\n",
       "      Bokeh.index[id].model.document.clear();\n",
       "      delete Bokeh.index[id];\n",
       "    }\n",
       "\n",
       "    if (server_id !== undefined) {\n",
       "      // Clean up Bokeh references\n",
       "      var cmd = \"from bokeh.io.state import curstate; print(curstate().uuid_to_server['\" + server_id + \"'].get_sessions()[0].document.roots[0]._id)\";\n",
       "      cell.notebook.kernel.execute(cmd, {\n",
       "        iopub: {\n",
       "          output: function(msg) {\n",
       "            var id = msg.content.text.trim();\n",
       "            if (id in Bokeh.index) {\n",
       "              Bokeh.index[id].model.document.clear();\n",
       "              delete Bokeh.index[id];\n",
       "            }\n",
       "          }\n",
       "        }\n",
       "      });\n",
       "      // Destroy server and session\n",
       "      var cmd = \"import bokeh.io.notebook as ion; ion.destroy_server('\" + server_id + \"')\";\n",
       "      cell.notebook.kernel.execute(cmd);\n",
       "    }\n",
       "  }\n",
       "\n",
       "  /**\n",
       "   * Handle when a new output is added\n",
       "   */\n",
       "  function handleAddOutput(event, handle) {\n",
       "    var output_area = handle.output_area;\n",
       "    var output = handle.output;\n",
       "\n",
       "    // limit handleAddOutput to display_data with EXEC_MIME_TYPE content only\n",
       "    if ((output.output_type != \"display_data\") || (!output.data.hasOwnProperty(EXEC_MIME_TYPE))) {\n",
       "      return\n",
       "    }\n",
       "\n",
       "    var toinsert = output_area.element.find(\".\" + CLASS_NAME.split(' ')[0]);\n",
       "\n",
       "    if (output.metadata[EXEC_MIME_TYPE][\"id\"] !== undefined) {\n",
       "      toinsert[toinsert.length - 1].firstChild.textContent = output.data[JS_MIME_TYPE];\n",
       "      // store reference to embed id on output_area\n",
       "      output_area._bokeh_element_id = output.metadata[EXEC_MIME_TYPE][\"id\"];\n",
       "    }\n",
       "    if (output.metadata[EXEC_MIME_TYPE][\"server_id\"] !== undefined) {\n",
       "      var bk_div = document.createElement(\"div\");\n",
       "      bk_div.innerHTML = output.data[HTML_MIME_TYPE];\n",
       "      var script_attrs = bk_div.children[0].attributes;\n",
       "      for (var i = 0; i < script_attrs.length; i++) {\n",
       "        toinsert[toinsert.length - 1].firstChild.setAttribute(script_attrs[i].name, script_attrs[i].value);\n",
       "        toinsert[toinsert.length - 1].firstChild.textContent = bk_div.children[0].textContent\n",
       "      }\n",
       "      // store reference to server id on output_area\n",
       "      output_area._bokeh_server_id = output.metadata[EXEC_MIME_TYPE][\"server_id\"];\n",
       "    }\n",
       "  }\n",
       "\n",
       "  function register_renderer(events, OutputArea) {\n",
       "\n",
       "    function append_mime(data, metadata, element) {\n",
       "      // create a DOM node to render to\n",
       "      var toinsert = this.create_output_subarea(\n",
       "        metadata,\n",
       "        CLASS_NAME,\n",
       "        EXEC_MIME_TYPE\n",
       "      );\n",
       "      this.keyboard_manager.register_events(toinsert);\n",
       "      // Render to node\n",
       "      var props = {data: data, metadata: metadata[EXEC_MIME_TYPE]};\n",
       "      render(props, toinsert[toinsert.length - 1]);\n",
       "      element.append(toinsert);\n",
       "      return toinsert\n",
       "    }\n",
       "\n",
       "    /* Handle when an output is cleared or removed */\n",
       "    events.on('clear_output.CodeCell', handleClearOutput);\n",
       "    events.on('delete.Cell', handleClearOutput);\n",
       "\n",
       "    /* Handle when a new output is added */\n",
       "    events.on('output_added.OutputArea', handleAddOutput);\n",
       "\n",
       "    /**\n",
       "     * Register the mime type and append_mime function with output_area\n",
       "     */\n",
       "    OutputArea.prototype.register_mime_type(EXEC_MIME_TYPE, append_mime, {\n",
       "      /* Is output safe? */\n",
       "      safe: true,\n",
       "      /* Index of renderer in `output_area.display_order` */\n",
       "      index: 0\n",
       "    });\n",
       "  }\n",
       "\n",
       "  // register the mime type if in Jupyter Notebook environment and previously unregistered\n",
       "  if (root.Jupyter !== undefined) {\n",
       "    var events = require('base/js/events');\n",
       "    var OutputArea = require('notebook/js/outputarea').OutputArea;\n",
       "\n",
       "    if (OutputArea.prototype.mime_types().indexOf(EXEC_MIME_TYPE) == -1) {\n",
       "      register_renderer(events, OutputArea);\n",
       "    }\n",
       "  }\n",
       "\n",
       "  \n",
       "  if (typeof (root._bokeh_timeout) === \"undefined\" || force === true) {\n",
       "    root._bokeh_timeout = Date.now() + 5000;\n",
       "    root._bokeh_failed_load = false;\n",
       "  }\n",
       "\n",
       "  var NB_LOAD_WARNING = {'data': {'text/html':\n",
       "     \"<div style='background-color: #fdd'>\\n\"+\n",
       "     \"<p>\\n\"+\n",
       "     \"BokehJS does not appear to have successfully loaded. If loading BokehJS from CDN, this \\n\"+\n",
       "     \"may be due to a slow or bad network connection. Possible fixes:\\n\"+\n",
       "     \"</p>\\n\"+\n",
       "     \"<ul>\\n\"+\n",
       "     \"<li>re-rerun `output_notebook()` to attempt to load from CDN again, or</li>\\n\"+\n",
       "     \"<li>use INLINE resources instead, as so:</li>\\n\"+\n",
       "     \"</ul>\\n\"+\n",
       "     \"<code>\\n\"+\n",
       "     \"from bokeh.resources import INLINE\\n\"+\n",
       "     \"output_notebook(resources=INLINE)\\n\"+\n",
       "     \"</code>\\n\"+\n",
       "     \"</div>\"}};\n",
       "\n",
       "  function display_loaded() {\n",
       "    var el = document.getElementById(\"1001\");\n",
       "    if (el != null) {\n",
       "      el.textContent = \"BokehJS is loading...\";\n",
       "    }\n",
       "    if (root.Bokeh !== undefined) {\n",
       "      if (el != null) {\n",
       "        el.textContent = \"BokehJS \" + root.Bokeh.version + \" successfully loaded.\";\n",
       "      }\n",
       "    } else if (Date.now() < root._bokeh_timeout) {\n",
       "      setTimeout(display_loaded, 100)\n",
       "    }\n",
       "  }\n",
       "\n",
       "\n",
       "  function run_callbacks() {\n",
       "    try {\n",
       "      root._bokeh_onload_callbacks.forEach(function(callback) {\n",
       "        if (callback != null)\n",
       "          callback();\n",
       "      });\n",
       "    } finally {\n",
       "      delete root._bokeh_onload_callbacks\n",
       "    }\n",
       "    console.debug(\"Bokeh: all callbacks have finished\");\n",
       "  }\n",
       "\n",
       "  function load_libs(css_urls, js_urls, callback) {\n",
       "    if (css_urls == null) css_urls = [];\n",
       "    if (js_urls == null) js_urls = [];\n",
       "\n",
       "    root._bokeh_onload_callbacks.push(callback);\n",
       "    if (root._bokeh_is_loading > 0) {\n",
       "      console.debug(\"Bokeh: BokehJS is being loaded, scheduling callback at\", now());\n",
       "      return null;\n",
       "    }\n",
       "    if (js_urls == null || js_urls.length === 0) {\n",
       "      run_callbacks();\n",
       "      return null;\n",
       "    }\n",
       "    console.debug(\"Bokeh: BokehJS not loaded, scheduling load and callback at\", now());\n",
       "    root._bokeh_is_loading = css_urls.length + js_urls.length;\n",
       "\n",
       "    function on_load() {\n",
       "      root._bokeh_is_loading--;\n",
       "      if (root._bokeh_is_loading === 0) {\n",
       "        console.debug(\"Bokeh: all BokehJS libraries/stylesheets loaded\");\n",
       "        run_callbacks()\n",
       "      }\n",
       "    }\n",
       "\n",
       "    function on_error() {\n",
       "      console.error(\"failed to load \" + url);\n",
       "    }\n",
       "\n",
       "    for (var i = 0; i < css_urls.length; i++) {\n",
       "      var url = css_urls[i];\n",
       "      const element = document.createElement(\"link\");\n",
       "      element.onload = on_load;\n",
       "      element.onerror = on_error;\n",
       "      element.rel = \"stylesheet\";\n",
       "      element.type = \"text/css\";\n",
       "      element.href = url;\n",
       "      console.debug(\"Bokeh: injecting link tag for BokehJS stylesheet: \", url);\n",
       "      document.body.appendChild(element);\n",
       "    }\n",
       "\n",
       "    const hashes = {\"https://cdn.bokeh.org/bokeh/release/bokeh-2.2.3.min.js\": \"T2yuo9Oe71Cz/I4X9Ac5+gpEa5a8PpJCDlqKYO0CfAuEszu1JrXLl8YugMqYe3sM\", \"https://cdn.bokeh.org/bokeh/release/bokeh-widgets-2.2.3.min.js\": \"98GDGJ0kOMCUMUePhksaQ/GYgB3+NH9h996V88sh3aOiUNX3N+fLXAtry6xctSZ6\", \"https://cdn.bokeh.org/bokeh/release/bokeh-tables-2.2.3.min.js\": \"89bArO+nlbP3sgakeHjCo1JYxYR5wufVgA3IbUvDY+K7w4zyxJqssu7wVnfeKCq8\"};\n",
       "\n",
       "    for (var i = 0; i < js_urls.length; i++) {\n",
       "      var url = js_urls[i];\n",
       "      var element = document.createElement('script');\n",
       "      element.onload = on_load;\n",
       "      element.onerror = on_error;\n",
       "      element.async = false;\n",
       "      element.src = url;\n",
       "      if (url in hashes) {\n",
       "        element.crossOrigin = \"anonymous\";\n",
       "        element.integrity = \"sha384-\" + hashes[url];\n",
       "      }\n",
       "      console.debug(\"Bokeh: injecting script tag for BokehJS library: \", url);\n",
       "      document.head.appendChild(element);\n",
       "    }\n",
       "  };\n",
       "\n",
       "  function inject_raw_css(css) {\n",
       "    const element = document.createElement(\"style\");\n",
       "    element.appendChild(document.createTextNode(css));\n",
       "    document.body.appendChild(element);\n",
       "  }\n",
       "\n",
       "  \n",
       "  var js_urls = [\"https://cdn.bokeh.org/bokeh/release/bokeh-2.2.3.min.js\", \"https://cdn.bokeh.org/bokeh/release/bokeh-widgets-2.2.3.min.js\", \"https://cdn.bokeh.org/bokeh/release/bokeh-tables-2.2.3.min.js\"];\n",
       "  var css_urls = [];\n",
       "  \n",
       "\n",
       "  var inline_js = [\n",
       "    function(Bokeh) {\n",
       "      Bokeh.set_log_level(\"info\");\n",
       "    },\n",
       "    function(Bokeh) {\n",
       "    \n",
       "    \n",
       "    }\n",
       "  ];\n",
       "\n",
       "  function run_inline_js() {\n",
       "    \n",
       "    if (root.Bokeh !== undefined || force === true) {\n",
       "      \n",
       "    for (var i = 0; i < inline_js.length; i++) {\n",
       "      inline_js[i].call(root, root.Bokeh);\n",
       "    }\n",
       "    if (force === true) {\n",
       "        display_loaded();\n",
       "      }} else if (Date.now() < root._bokeh_timeout) {\n",
       "      setTimeout(run_inline_js, 100);\n",
       "    } else if (!root._bokeh_failed_load) {\n",
       "      console.log(\"Bokeh: BokehJS failed to load within specified timeout.\");\n",
       "      root._bokeh_failed_load = true;\n",
       "    } else if (force !== true) {\n",
       "      var cell = $(document.getElementById(\"1001\")).parents('.cell').data().cell;\n",
       "      cell.output_area.append_execute_result(NB_LOAD_WARNING)\n",
       "    }\n",
       "\n",
       "  }\n",
       "\n",
       "  if (root._bokeh_is_loading === 0) {\n",
       "    console.debug(\"Bokeh: BokehJS loaded, going straight to plotting\");\n",
       "    run_inline_js();\n",
       "  } else {\n",
       "    load_libs(css_urls, js_urls, function() {\n",
       "      console.debug(\"Bokeh: BokehJS plotting callback run at\", now());\n",
       "      run_inline_js();\n",
       "    });\n",
       "  }\n",
       "}(window));"
      ],
      "application/vnd.bokehjs_load.v0+json": "\n(function(root) {\n  function now() {\n    return new Date();\n  }\n\n  var force = true;\n\n  if (typeof root._bokeh_onload_callbacks === \"undefined\" || force === true) {\n    root._bokeh_onload_callbacks = [];\n    root._bokeh_is_loading = undefined;\n  }\n\n  \n\n  \n  if (typeof (root._bokeh_timeout) === \"undefined\" || force === true) {\n    root._bokeh_timeout = Date.now() + 5000;\n    root._bokeh_failed_load = false;\n  }\n\n  var NB_LOAD_WARNING = {'data': {'text/html':\n     \"<div style='background-color: #fdd'>\\n\"+\n     \"<p>\\n\"+\n     \"BokehJS does not appear to have successfully loaded. If loading BokehJS from CDN, this \\n\"+\n     \"may be due to a slow or bad network connection. Possible fixes:\\n\"+\n     \"</p>\\n\"+\n     \"<ul>\\n\"+\n     \"<li>re-rerun `output_notebook()` to attempt to load from CDN again, or</li>\\n\"+\n     \"<li>use INLINE resources instead, as so:</li>\\n\"+\n     \"</ul>\\n\"+\n     \"<code>\\n\"+\n     \"from bokeh.resources import INLINE\\n\"+\n     \"output_notebook(resources=INLINE)\\n\"+\n     \"</code>\\n\"+\n     \"</div>\"}};\n\n  function display_loaded() {\n    var el = document.getElementById(\"1001\");\n    if (el != null) {\n      el.textContent = \"BokehJS is loading...\";\n    }\n    if (root.Bokeh !== undefined) {\n      if (el != null) {\n        el.textContent = \"BokehJS \" + root.Bokeh.version + \" successfully loaded.\";\n      }\n    } else if (Date.now() < root._bokeh_timeout) {\n      setTimeout(display_loaded, 100)\n    }\n  }\n\n\n  function run_callbacks() {\n    try {\n      root._bokeh_onload_callbacks.forEach(function(callback) {\n        if (callback != null)\n          callback();\n      });\n    } finally {\n      delete root._bokeh_onload_callbacks\n    }\n    console.debug(\"Bokeh: all callbacks have finished\");\n  }\n\n  function load_libs(css_urls, js_urls, callback) {\n    if (css_urls == null) css_urls = [];\n    if (js_urls == null) js_urls = [];\n\n    root._bokeh_onload_callbacks.push(callback);\n    if (root._bokeh_is_loading > 0) {\n      console.debug(\"Bokeh: BokehJS is being loaded, scheduling callback at\", now());\n      return null;\n    }\n    if (js_urls == null || js_urls.length === 0) {\n      run_callbacks();\n      return null;\n    }\n    console.debug(\"Bokeh: BokehJS not loaded, scheduling load and callback at\", now());\n    root._bokeh_is_loading = css_urls.length + js_urls.length;\n\n    function on_load() {\n      root._bokeh_is_loading--;\n      if (root._bokeh_is_loading === 0) {\n        console.debug(\"Bokeh: all BokehJS libraries/stylesheets loaded\");\n        run_callbacks()\n      }\n    }\n\n    function on_error() {\n      console.error(\"failed to load \" + url);\n    }\n\n    for (var i = 0; i < css_urls.length; i++) {\n      var url = css_urls[i];\n      const element = document.createElement(\"link\");\n      element.onload = on_load;\n      element.onerror = on_error;\n      element.rel = \"stylesheet\";\n      element.type = \"text/css\";\n      element.href = url;\n      console.debug(\"Bokeh: injecting link tag for BokehJS stylesheet: \", url);\n      document.body.appendChild(element);\n    }\n\n    const hashes = {\"https://cdn.bokeh.org/bokeh/release/bokeh-2.2.3.min.js\": \"T2yuo9Oe71Cz/I4X9Ac5+gpEa5a8PpJCDlqKYO0CfAuEszu1JrXLl8YugMqYe3sM\", \"https://cdn.bokeh.org/bokeh/release/bokeh-widgets-2.2.3.min.js\": \"98GDGJ0kOMCUMUePhksaQ/GYgB3+NH9h996V88sh3aOiUNX3N+fLXAtry6xctSZ6\", \"https://cdn.bokeh.org/bokeh/release/bokeh-tables-2.2.3.min.js\": \"89bArO+nlbP3sgakeHjCo1JYxYR5wufVgA3IbUvDY+K7w4zyxJqssu7wVnfeKCq8\"};\n\n    for (var i = 0; i < js_urls.length; i++) {\n      var url = js_urls[i];\n      var element = document.createElement('script');\n      element.onload = on_load;\n      element.onerror = on_error;\n      element.async = false;\n      element.src = url;\n      if (url in hashes) {\n        element.crossOrigin = \"anonymous\";\n        element.integrity = \"sha384-\" + hashes[url];\n      }\n      console.debug(\"Bokeh: injecting script tag for BokehJS library: \", url);\n      document.head.appendChild(element);\n    }\n  };\n\n  function inject_raw_css(css) {\n    const element = document.createElement(\"style\");\n    element.appendChild(document.createTextNode(css));\n    document.body.appendChild(element);\n  }\n\n  \n  var js_urls = [\"https://cdn.bokeh.org/bokeh/release/bokeh-2.2.3.min.js\", \"https://cdn.bokeh.org/bokeh/release/bokeh-widgets-2.2.3.min.js\", \"https://cdn.bokeh.org/bokeh/release/bokeh-tables-2.2.3.min.js\"];\n  var css_urls = [];\n  \n\n  var inline_js = [\n    function(Bokeh) {\n      Bokeh.set_log_level(\"info\");\n    },\n    function(Bokeh) {\n    \n    \n    }\n  ];\n\n  function run_inline_js() {\n    \n    if (root.Bokeh !== undefined || force === true) {\n      \n    for (var i = 0; i < inline_js.length; i++) {\n      inline_js[i].call(root, root.Bokeh);\n    }\n    if (force === true) {\n        display_loaded();\n      }} else if (Date.now() < root._bokeh_timeout) {\n      setTimeout(run_inline_js, 100);\n    } else if (!root._bokeh_failed_load) {\n      console.log(\"Bokeh: BokehJS failed to load within specified timeout.\");\n      root._bokeh_failed_load = true;\n    } else if (force !== true) {\n      var cell = $(document.getElementById(\"1001\")).parents('.cell').data().cell;\n      cell.output_area.append_execute_result(NB_LOAD_WARNING)\n    }\n\n  }\n\n  if (root._bokeh_is_loading === 0) {\n    console.debug(\"Bokeh: BokehJS loaded, going straight to plotting\");\n    run_inline_js();\n  } else {\n    load_libs(css_urls, js_urls, function() {\n      console.debug(\"Bokeh: BokehJS plotting callback run at\", now());\n      run_inline_js();\n    });\n  }\n}(window));"
     },
     "metadata": {},
     "output_type": "display_data"
    }
   ],
   "source": [
    "from bokeh.models import ColumnDataSource, LabelSet\n",
    "from bokeh.plotting import figure, show, output_file\n",
    "from bokeh.io import output_notebook\n",
    "output_notebook()"
   ]
  },
  {
   "cell_type": "code",
   "execution_count": 4,
   "metadata": {
    "colab": {
     "base_uri": "https://localhost:8080/",
     "height": 706
    },
    "id": "ofHeuGejaZHs",
    "outputId": "76bd947b-c2f1-4a7d-e4dc-d1a629613889"
   },
   "outputs": [],
   "source": [
    "try: \n",
    "    import nltk\n",
    "except:\n",
    "    import sys #Here we install nltk. You only have to execute this cell once!\n",
    "    !{sys.executable} -m pip install nltk \n",
    "    import nltk\n",
    "    nltk.download()"
   ]
  },
  {
   "cell_type": "markdown",
   "metadata": {
    "id": "Haav4K7YaBti"
   },
   "source": [
    "### Part 0: Download the TED dataset"
   ]
  },
  {
   "cell_type": "markdown",
   "metadata": {},
   "source": [
    "As input we need a large amount of text data. We will use the TED database, which are the transcripts of Ted Talks. The next cells will download everything you need, this might take a while as the dataset is 75MB."
   ]
  },
  {
   "cell_type": "code",
   "execution_count": 5,
   "metadata": {
    "id": "stf464BBaBtj"
   },
   "outputs": [],
   "source": [
    "import urllib.request\n",
    "import zipfile\n",
    "import lxml.etree"
   ]
  },
  {
   "cell_type": "code",
   "execution_count": 6,
   "metadata": {
    "id": "91T_rkPbaBtn"
   },
   "outputs": [],
   "source": [
    "# Download the dataset if it's not already there: this may take a minute as it is 75MB\n",
    "if not os.path.isfile('ted_en-20160408.zip'):\n",
    "    urllib.request.urlretrieve(\"https://wit3.fbk.eu/get.php?path=XML_releases/xml/ted_en-20160408.zip&filename=ted_en-20160408.zip\", filename=\"ted_en-20160408.zip\")"
   ]
  },
  {
   "cell_type": "code",
   "execution_count": 7,
   "metadata": {
    "id": "0oWf1JkvaBtr"
   },
   "outputs": [],
   "source": [
    "# For now, we're only interested in the subtitle text, so let's extract that from the XML:\n",
    "with zipfile.ZipFile('ted_en-20160408.zip', 'r') as z:\n",
    "    doc = lxml.etree.parse(z.open('ted_en-20160408.xml', 'r'))\n",
    "input_text = '\\n'.join(doc.xpath('//content/text()'))\n",
    "del doc"
   ]
  },
  {
   "cell_type": "markdown",
   "metadata": {
    "id": "G9UVfpExaBtu"
   },
   "source": [
    "### Part 1: Preprocessing\n",
    "\n",
    "Before using our text, we need to preprocess it. Therefore, we bring it into a form that is predictable and analyzable. We attempt to clean up the raw subtitles a bit, so that we get only complete sentences. The following substring shows examples of what we're trying to get rid of. Since it's hard to define precisely what we want to get rid of, we'll just use some simple heuristics."
   ]
  },
  {
   "cell_type": "markdown",
   "metadata": {
    "id": "eKWHxHG7bkWa"
   },
   "source": [
    "<h4>Execercise 1.1 (2 Points)</h4> \n",
    "Before we work with the data we should have a look at it. We already marked some areas for you, that need to be cleaned. You do not have to code anything here, you just have to become aware of sensitive preprocessing steps."
   ]
  },
  {
   "cell_type": "code",
   "execution_count": 8,
   "metadata": {
    "colab": {
     "base_uri": "https://localhost:8080/"
    },
    "id": "yGpx6RFzaBtv",
    "outputId": "bcb54a06-f126-4a8c-f5be-675d04061998",
    "scrolled": false
   },
   "outputs": [
    {
     "name": "stdout",
     "output_type": "stream",
     "text": [
      "Hyowon Gweon: See this? (Ball squeaks) Did you see that? (Ball squeaks) Cool. See this one? (Ball squeaks) Wow.\n",
      "Laura Schulz: Told you. (Laughs)\n",
      "(Vide\n",
      "You will earn 10% of any gold you distributes.\"\n",
      "(Laughter)\n",
      "So I knew I was dealing with a profession\n"
     ]
    }
   ],
   "source": [
    "#Have a look at the output of this code, to see some examples\n",
    "i = input_text.find(\"Hyowon Gweon: See this?\")\n",
    "print(input_text[i:i+150])\n",
    "\n",
    "\n",
    "i = input_text.find(\"You will earn\")\n",
    "print(input_text[i:i+100])"
   ]
  },
  {
   "cell_type": "markdown",
   "metadata": {
    "id": "5Y7gtjkWcJ-2"
   },
   "source": [
    "For example the parenthesized strings like \"(Ball squeaks)\" and symbols like % could distort the semantics of words in the embedding. Name at least two more problematic sections and how you would solve them.\n"
   ]
  },
  {
   "cell_type": "markdown",
   "metadata": {},
   "source": [
    "<b>Your Solution:</b> \n",
    "<br>- Parenthesized Strings\n",
    "<br>- Percent-Symbol\n",
    "<br>- Dallor-Symbol\n",
    "<br>- \"--\" sign "
   ]
  },
  {
   "cell_type": "markdown",
   "metadata": {
    "id": "CH2seZr2aBt1"
   },
   "source": [
    "<h4>Exercise 1.2 (2 Points)</h4>\n",
    "Let's start by removing all parenthesized strings using a regex:"
   ]
  },
  {
   "cell_type": "code",
   "execution_count": 9,
   "metadata": {
    "colab": {
     "base_uri": "https://localhost:8080/"
    },
    "id": "8u3YXkh5aBt1",
    "outputId": "d4531bf0-9e89-43a9-b10c-487abb2159cc"
   },
   "outputs": [
    {
     "name": "stdout",
     "output_type": "stream",
     "text": [
      "before\n",
      "Hyowon Gweon: See this? (Ball squeaks) Did you see that? (Ball squeaks) Cool. See this one? (\n",
      "after\n",
      "Hyowon Gweon: See this?  Did you see that?  Cool. See this one?  Wow.\n",
      "Laura Schulz: Told you.\n"
     ]
    }
   ],
   "source": [
    "i = input_text.find(\"Hyowon Gweon: See this?\")\n",
    "print(\"before\")\n",
    "print(input_text[i:i+93])\n",
    "\n",
    "input_text_noparens = re.sub(r'\\([^)]*\\)', '', input_text) #Identifies everything in parenthesis and replaces it with \"\"\n",
    "\n",
    "\n",
    "#you can use this to verify\n",
    "i = input_text_noparens.find(\"Hyowon Gweon: See this?\")\n",
    "print(\"after\")\n",
    "print(input_text_noparens[i:i+93])\n",
    "\n",
    "#We won't worry about the irregular spaces since we'll later split the text into sentences and tokenize it anyway."
   ]
  },
  {
   "cell_type": "markdown",
   "metadata": {
    "id": "FtwPNpChdjww"
   },
   "source": [
    "Try it yourself: Replace every percentage Symbol with the word \"percent\""
   ]
  },
  {
   "cell_type": "code",
   "execution_count": 10,
   "metadata": {
    "colab": {
     "base_uri": "https://localhost:8080/"
    },
    "id": "6o6oEW0AdiDY",
    "outputId": "7033da5a-90a2-4833-d4d8-257739cc3696"
   },
   "outputs": [
    {
     "name": "stdout",
     "output_type": "stream",
     "text": [
      "before\n",
      "You will earn 10% of any gold \n",
      "after\n",
      "You will earn 10 percent of any gold \n"
     ]
    }
   ],
   "source": [
    "i = input_text_noparens.find(\"You will earn\")\n",
    "print(\"before\")\n",
    "print(input_text_noparens[i:i+30])\n",
    "\n",
    "#Your implementation goes here!\n",
    "input_text_clean = re.sub(r'%', ' percent', input_text_noparens) #Identifies everything in parenthesis and replaces it with \"\"\n",
    "\n",
    "i = input_text_clean.find(\"You will earn\")\n",
    "print(\"after\")\n",
    "print(input_text_clean[i:i+37])"
   ]
  },
  {
   "cell_type": "markdown",
   "metadata": {
    "id": "67ZOyc_9e2aS"
   },
   "source": [
    "<h4>Exercise 1.3 (up to 6 Points)</h4>\n",
    "Now you have learned how to use RegEx to your advantage and have Identified potential parts of the text, that we want to eliminate. We have already implented how to remove all parenthesized strings. It is now your Task to implement at least one more heuristic to replace the problematic parts you previously identified(Exercise 1.1).\n",
    "A simple replacing function (like the one where you replaced \"%\" with \"percent\") gives you two points per function, more complicated implementations will give you the full 6 Points. "
   ]
  },
  {
   "cell_type": "code",
   "execution_count": 11,
   "metadata": {
    "id": "S6NKj6fNfXMQ",
    "scrolled": true
   },
   "outputs": [
    {
     "name": "stdout",
     "output_type": "stream",
     "text": [
      "before\n",
      "So we're at step two at this point. So we had a $100,000 sports car, which was the Roadster. Then we've got the Model S, which starts at around 50,000 dollars. And our third generation car, which should hopefully be out in about three or four years will be a $30,000 car. But whenever you've got real\n",
      "you can certainly drive -- if you drive it 65 mile\n",
      "after\n",
      "So we're at step two at this point. So we had a 100,000 dollars sports car, which was the Roadster. Then we've got the Model S, which starts at around 50,000 dollars. And our third generation car, which should hopefully be out in about three or four years will be a 30,000 dollars car. But whenever y\n",
      "you can certainly drive  if you drive it 65 miles \n"
     ]
    }
   ],
   "source": [
    "i = input_text_clean.find(\"So we're at step\")\n",
    "j = input_text_clean.find(\"you can certainly\")#find problematic parts\n",
    "print(\"before\")\n",
    "print(input_text_clean[i:i+300]) #and show them\n",
    "print(input_text_clean[j:j+50])\n",
    "\n",
    "#Your implementation here\n",
    "input_text_clean_1 = re.sub('\\$([0-9]+\\,?[0-9]*)', '\\g<1> dollars', input_text_clean)\n",
    "input_text_clean_2 = re.sub(r'--', '', input_text_clean)\n",
    "\n",
    "i = input_text_clean_1.find(\"So we're at step\")\n",
    "j = input_text_clean_2.find(\"you can certainly\")#validate your method\n",
    "print(\"after\")\n",
    "print(input_text_clean_1[i:i+300])\n",
    "print(input_text_clean_2[j:j+50])"
   ]
  },
  {
   "cell_type": "markdown",
   "metadata": {
    "id": "BJEtm8eOaBt9"
   },
   "source": [
    "<h4>Exercise 1.4 (4 Points)</h4>\n",
    "What does this block of code do? Identify one flaw. Again, you dont have to code anything here!\n"
   ]
  },
  {
   "cell_type": "code",
   "execution_count": 12,
   "metadata": {},
   "outputs": [
    {
     "name": "stdout",
     "output_type": "stream",
     "text": [
      "before:\n",
      "let's see what the baby does.\n",
      " Hyowon Gweon: See this?  Did you see that?  Cool. See this one?  Wow.\n",
      "Laura Schulz: Told you\n",
      "after:\n",
      " let's see what the baby does. See this?  Did you see that?  Cool. See this one?  Wow.\n"
     ]
    }
   ],
   "source": [
    "i = input_text_clean.find(\"Hyowon Gweon: See this?\")\n",
    "print(\"before:\")\n",
    "print(input_text_clean[i-31:i+92])\n",
    "\n",
    "X = []\n",
    "for line in input_text_clean.split('\\n'):\n",
    "    m = re.match(r'^(?:(?P<precolon>[^:]{,20}):)?(?P<postcolon>.*)$', line)\n",
    "    X.extend(m.groupdict()['postcolon'])\n",
    "input_text_clean2=\"\".join(X)\n",
    "\n",
    "\n",
    "i = input_text_clean2.find(\"See this?\")\n",
    "print(\"after:\")\n",
    "print(input_text_clean2[i-31:i+55])"
   ]
  },
  {
   "cell_type": "raw",
   "metadata": {},
   "source": [
    "Use RegExp to get text in a key-value pair separated by a colon.\n",
    "And return the post colon part only by using groupdict() function # groupdict() returns a dictionary with the groupname as keys and the matched string as the value for that key"
   ]
  },
  {
   "cell_type": "markdown",
   "metadata": {
    "id": "sX5lFA4XijPm"
   },
   "source": [
    "<h4>Exercise 1.5 (6 Points)</h4>\n",
    "\n",
    "To build our embedding we need to tokenize every single word. Therefore we first need to split the text into sentences and after that into words. \n",
    "Try it yourself or use the NLTK-Tools build for this (https://www.kite.com/python/docs/nltk.word_tokenize + https://www.kite.com/python/docs/nltk.sent_tokenize).\n",
    "To make it easier to build our Embedding we should also delete every character that is not a letter. Additionally, we could lower vocabulary count. A way to do this is by converting capital characters to lower case characters.\n",
    "\n",
    "Split your text into sentences and save them in the array `sentences_strings_ted`.\n",
    "Save one variabale `tokens` with all the tokens in the text and one array named `sentences_ted` that contains an array for every sentence, with all the tokenized words of that sentence.<br><br>\n",
    "Example:<br>\n",
    "If the Text looks like this: \"I love cake. You have to be honest, you love it too!\", the variables look like:<br><br>\n",
    "sentences_strings_ted=['I love cake.', 'You have to be honest, you love it too!']<br>\n",
    "sentences_ted=[['i', 'love', 'cake'], ['you', 'have', 'to', 'be', 'honest', 'you', 'love', 'it', 'too']]<br>\n",
    "tokens=['i', 'love', 'cake', 'you', 'have', 'to', 'be', 'honest', 'you', 'love', 'it', 'too']<br>\n",
    "\n",
    "\n",
    "Apply this to `input_text_clean`"
   ]
  },
  {
   "cell_type": "code",
   "execution_count": 13,
   "metadata": {},
   "outputs": [
    {
     "name": "stderr",
     "output_type": "stream",
     "text": [
      "[nltk_data] Downloading package punkt to\n",
      "[nltk_data]     C:\\Users\\pariy\\AppData\\Roaming\\nltk_data...\n",
      "[nltk_data]   Package punkt is already up-to-date!\n"
     ]
    },
    {
     "data": {
      "text/plain": [
       "True"
      ]
     },
     "execution_count": 13,
     "metadata": {},
     "output_type": "execute_result"
    }
   ],
   "source": [
    "import nltk\n",
    "nltk.download('punkt')"
   ]
  },
  {
   "cell_type": "code",
   "execution_count": 14,
   "metadata": {},
   "outputs": [],
   "source": [
    "from nltk.tokenize import sent_tokenize, word_tokenize\n",
    "# initialize the empty list to accumulate the results\n",
    "sentences_strings_ted = []\n",
    "sentences_ted = []\n",
    "tokens = []\n",
    "# use sent_tokenize to tokenize in sentences\n",
    "sentences_strings_ted.extend(sent_tokenize(input_text_clean))\n",
    "# as we already have tokenized sentences we can use this list to further tokenization\n",
    "for i in range(len(sentences_strings_ted)):\n",
    "    text_clean = re.sub('[^a-zA-Z\\s0-9]', '', sentences_strings_ted[i]).lower() #remove every character which is not a letter and make all letters into the lower cases\n",
    "    tokens.extend(word_tokenize(text_clean))\n",
    "    sentences_ted.append(word_tokenize(text_clean))\n",
    "    \n",
    "#print('sentences_strings_ted = ',sentences_strings_ted)\n",
    "#print('sentences_ted = ',sentences_ted)\n",
    "#print('tokens = ',tokens)\n",
    "\n"
   ]
  },
  {
   "cell_type": "markdown",
   "metadata": {
    "id": "sUiFC0I5j31i"
   },
   "source": [
    "<h4>Exercise 1.6 (1 Point)</h4>\n",
    "The good side is, that by converting all capital letters is, we reduce the volume of the vocabulary. Thereby we dont differentiate between the the words \"today\" and \"Today\". \n",
    "Can you think of any downside to this process?"
   ]
  },
  {
   "cell_type": "raw",
   "metadata": {},
   "source": [
    "There must be some words that have their own meanings so that have to be remained as the captial letters. When we replace these words into the lower cases, the meaning can be changed. For example, US(the United States) has to be distingued from us."
   ]
  },
  {
   "cell_type": "markdown",
   "metadata": {
    "id": "g8Fs3pzZmHHv"
   },
   "source": [
    "Now we can have a look at the processed dataset:"
   ]
  },
  {
   "cell_type": "code",
   "execution_count": 15,
   "metadata": {
    "colab": {
     "base_uri": "https://localhost:8080/"
    },
    "id": "ooe1gfSZaBuG",
    "outputId": "9726e08b-f631-4e80-f4ef-55432eff8f19"
   },
   "outputs": [
    {
     "data": {
      "text/plain": [
       "273424"
      ]
     },
     "execution_count": 15,
     "metadata": {},
     "output_type": "execute_result"
    }
   ],
   "source": [
    "len(sentences_ted)"
   ]
  },
  {
   "cell_type": "code",
   "execution_count": 16,
   "metadata": {
    "id": "Jwdw8QxbaBuJ",
    "outputId": "8f971b5c-f0c4-4664-8da8-5ca5b61bf1c6"
   },
   "outputs": [
    {
     "name": "stdout",
     "output_type": "stream",
     "text": [
      "['here', 'are', 'two', 'reasons', 'companies', 'fail', 'they', 'only', 'do', 'more', 'of', 'the', 'same', 'or', 'they', 'only', 'do', 'whats', 'new']\n",
      "['ciao', 'bellos']\n"
     ]
    }
   ],
   "source": [
    "print(sentences_ted[0])\n",
    "print(sentences_ted[-1])\n",
    "#print(sentences_ted)"
   ]
  },
  {
   "cell_type": "markdown",
   "metadata": {
    "id": "SCjkAGHjaBuN"
   },
   "source": [
    "### Part 2: Word Frequencies"
   ]
  },
  {
   "cell_type": "markdown",
   "metadata": {
    "id": "hvLMH0iXaBuO"
   },
   "source": [
    "<h4>Exercise 2.1 (4 Points)</h4>\n",
    "Your next task will be to store the counts of the top 1000 most frequent words in a list called `counts_ted_top1000` ! There are multiple ways to do this. You can have a look at the Counter-Function(https://docs.python.org/2/library/collections.html) or the FreqDist-Function (https://www.kite.com/python/docs/nltk.FreqDist). If you dont trust any of those you can of course build your own function.\n",
    "In the end we want an array with tupels of the structure [(WordA,FrequencyA),(WordB,FrequencyB)]."
   ]
  },
  {
   "cell_type": "code",
   "execution_count": 17,
   "metadata": {
    "id": "LcQzY8iWaBuP",
    "scrolled": false
   },
   "outputs": [],
   "source": [
    "import collections as cll\n",
    "words = re.findall(r'\\w+', input_text_clean.lower())\n",
    "counts_ted_top1000tupels = cll.Counter(words).most_common(1000)\n",
    "#print(counts_ted_top1000tupels)"
   ]
  },
  {
   "cell_type": "markdown",
   "metadata": {
    "id": "hti5NFdGaBuX"
   },
   "source": [
    "The following code is going to plot a histogramm of the distribution of the  top-30 words."
   ]
  },
  {
   "cell_type": "code",
   "execution_count": 18,
   "metadata": {},
   "outputs": [
    {
     "data": {
      "image/png": "[encoded data removed]",
      "text/plain": [
       "<Figure size 432x288 with 1 Axes>"
      ]
     },
     "metadata": {
      "needs_background": "light"
     },
     "output_type": "display_data"
    },
    {
     "name": "stdout",
     "output_type": "stream",
     "text": [
      "['the', 'and', 'to', 'of', 'a', 'that', 'i', 'in', 'it', 'you', 'we', 'is', 's', 'this', 'so', 'they', 'was', 'for', 'are', 'have', 'but', 'what', 'on', 'with', 'can', 't', 'about', 'there', 'be', 'as']\n"
     ]
    }
   ],
   "source": [
    "import matplotlib.pyplot as plt\n",
    "mostfreqn=30 #Here we define how many of them we want to see in the diagramm \n",
    "frequency=[y for (x,y) in counts_ted_top1000tupels][:mostfreqn]\n",
    "word=[x for (x,y) in counts_ted_top1000tupels][:mostfreqn]\n",
    "indices = np.arange(len(counts_ted_top1000tupels[:mostfreqn]))\n",
    "plt.bar(indices, frequency, color='r')\n",
    "plt.xticks(indices, word, rotation='vertical')\n",
    "plt.tight_layout()\n",
    "plt.show()\n",
    "print(word)"
   ]
  },
  {
   "cell_type": "markdown",
   "metadata": {},
   "source": [
    "You can clearly see, that many of the most common words are so called stop words. Stop Words are words, that are tipically not usefull to identify what a text is about."
   ]
  },
  {
   "cell_type": "markdown",
   "metadata": {
    "id": "2oRdD3e4aBud"
   },
   "source": [
    "### Part 3: Train Word2Vec"
   ]
  },
  {
   "cell_type": "markdown",
   "metadata": {
    "id": "kp0JGmKWhrNd"
   },
   "source": [
    "Now it is time to train the modell. Gensim has an already implemented model that you can use."
   ]
  },
  {
   "cell_type": "markdown",
   "metadata": {
    "id": "JTA9yWtdhb6z"
   },
   "source": [
    "Using the provided modell is enough for the purposes of our notebook. If you want to dive deeper into the topic this youtube video https://www.youtube.com/watch?v=kKDYtZfriI8 could be a great guidance for you to get started. \n"
   ]
  },
  {
   "cell_type": "code",
   "execution_count": 19,
   "metadata": {},
   "outputs": [
    {
     "name": "stdout",
     "output_type": "stream",
     "text": [
      "Requirement already satisfied: gensim in c:\\users\\pariy\\anaconda3\\envs\\cv\\lib\\site-packages (3.8.3)Note: you may need to restart the kernel to use updated packages.\n",
      "\n",
      "Requirement already satisfied: Cython==0.29.14 in c:\\users\\pariy\\anaconda3\\envs\\cv\\lib\\site-packages (from gensim) (0.29.14)\n",
      "Requirement already satisfied: smart-open>=1.8.1 in c:\\users\\pariy\\anaconda3\\envs\\cv\\lib\\site-packages (from gensim) (4.0.1)\n",
      "Requirement already satisfied: six>=1.5.0 in c:\\users\\pariy\\anaconda3\\envs\\cv\\lib\\site-packages (from gensim) (1.15.0)\n",
      "Requirement already satisfied: scipy>=0.18.1 in c:\\users\\pariy\\anaconda3\\envs\\cv\\lib\\site-packages (from gensim) (1.5.0)\n",
      "Requirement already satisfied: numpy>=1.11.3 in c:\\users\\pariy\\anaconda3\\envs\\cv\\lib\\site-packages (from gensim) (1.19.2)\n"
     ]
    }
   ],
   "source": [
    "pip install gensim"
   ]
  },
  {
   "cell_type": "code",
   "execution_count": 20,
   "metadata": {
    "id": "A_t4-aiTaBue"
   },
   "outputs": [],
   "source": [
    "#This takes a moment...dont worry :D\n",
    "from gensim.models import Word2Vec\n",
    "model_ted = Word2Vec(sentences_ted)"
   ]
  },
  {
   "cell_type": "markdown",
   "metadata": {
    "id": "KKYd7ZemaBuj"
   },
   "source": [
    "### Part 4: Ted Learnt Representations (3 Points)\n"
   ]
  },
  {
   "cell_type": "markdown",
   "metadata": {
    "id": "P7VvU82AaBuj"
   },
   "source": [
    "Finding similar words: (see gensim docs for functions, that might help you https://radimrehurek.com/gensim/models/keyedvectors.html)"
   ]
  },
  {
   "cell_type": "markdown",
   "metadata": {},
   "source": [
    "Now lets explore what we can do with this! How does \"house\" look in our embedding?"
   ]
  },
  {
   "cell_type": "code",
   "execution_count": 21,
   "metadata": {},
   "outputs": [
    {
     "data": {
      "text/plain": [
       "array([-2.1385144e-01,  1.1189494e+00, -1.2224474e+00,  8.8286543e-01,\n",
       "       -1.3868177e+00,  5.0826728e-01,  4.7653705e-01,  7.0741504e-01,\n",
       "       -7.4129367e-01, -1.0216230e+00,  4.8644769e-01, -7.1334708e-01,\n",
       "       -6.6606522e-01,  1.0340393e+00, -5.6163234e-01,  2.6887342e-01,\n",
       "       -5.0935805e-01, -1.0408784e+00,  1.4789250e-01,  1.5113628e-01,\n",
       "        1.5408939e+00,  1.7937556e-01, -6.0517788e-01,  4.6861178e-01,\n",
       "        1.0119845e+00, -5.8886103e-02, -1.3253683e+00, -2.3650183e-01,\n",
       "        3.9831549e-01,  5.5597460e-01,  7.5985599e-01,  1.0076590e+00,\n",
       "        2.9648009e-01,  4.1930217e-02, -1.1976465e+00,  2.8895459e-01,\n",
       "       -2.6892540e-01,  1.6626266e-01,  1.7515928e+00,  5.0312918e-01,\n",
       "       -5.0190943e-01,  1.1262258e+00, -4.8795244e-01, -6.0995471e-01,\n",
       "        1.9144543e-02,  9.9999213e-01, -9.7948861e-01, -1.1804863e+00,\n",
       "       -3.4307510e-01, -3.1316157e-02,  5.8770996e-01, -7.9759908e-01,\n",
       "        2.3825943e-01,  1.8748440e+00,  4.9978855e-01,  1.2609806e+00,\n",
       "       -2.9985330e-01, -1.4128942e+00, -1.2565818e+00, -2.1487096e-01,\n",
       "       -1.6874061e+00,  1.5317700e+00,  2.0116761e-02,  7.2939444e-01,\n",
       "        9.5455056e-01, -1.3448641e+00, -8.5083313e-02,  4.4200575e-01,\n",
       "        1.0237769e+00, -9.3192935e-01, -4.8640171e-01,  1.7928480e-01,\n",
       "       -9.9309951e-02, -6.2994480e-01,  2.7615356e+00,  7.2789419e-01,\n",
       "        9.5458157e-02,  4.8952433e-01,  1.2802245e-01,  1.1413790e+00,\n",
       "        2.6835253e+00,  2.2900035e-03,  3.5581714e-01,  1.0057660e+00,\n",
       "       -1.3375336e+00,  1.0980998e-01, -1.1983845e+00,  7.9311210e-01,\n",
       "       -1.1001337e+00, -7.3148549e-01, -1.7903127e-01,  8.6621726e-01,\n",
       "        1.5818950e+00, -8.3804709e-01,  7.5416726e-01, -1.4595009e+00,\n",
       "       -3.9547926e-01,  1.1500829e+00, -4.5645788e-01,  4.9062145e-01],\n",
       "      dtype=float32)"
      ]
     },
     "execution_count": 21,
     "metadata": {},
     "output_type": "execute_result"
    }
   ],
   "source": [
    "#YOUR CODE\n",
    "model_ted.wv['house']"
   ]
  },
  {
   "cell_type": "markdown",
   "metadata": {},
   "source": [
    "What is the most similar word for \"town\"?"
   ]
  },
  {
   "cell_type": "code",
   "execution_count": 22,
   "metadata": {},
   "outputs": [
    {
     "name": "stderr",
     "output_type": "stream",
     "text": [
      "<ipython-input-22-7e67326113f2>:2: DeprecationWarning: Call to deprecated `most_similar` (Method will be removed in 4.0.0, use self.wv.most_similar() instead).\n",
      "  model_ted.most_similar(positive=['town'])\n"
     ]
    },
    {
     "data": {
      "text/plain": [
       "[('village', 0.8803415298461914),\n",
       " ('neighborhood', 0.8621712923049927),\n",
       " ('park', 0.8156654238700867),\n",
       " ('hotel', 0.788316547870636),\n",
       " ('california', 0.780718982219696),\n",
       " ('camp', 0.7775964140892029),\n",
       " ('city', 0.77708500623703),\n",
       " ('london', 0.7624288201332092),\n",
       " ('house', 0.7620038390159607),\n",
       " ('lake', 0.7573073506355286)]"
      ]
     },
     "execution_count": 22,
     "metadata": {},
     "output_type": "execute_result"
    }
   ],
   "source": [
    "#YOUR CODE\n",
    "model_ted.most_similar(positive=['town'])"
   ]
  },
  {
   "cell_type": "markdown",
   "metadata": {},
   "source": [
    "\"Village\" is the most similar word for \"town\" with around 89% similarity."
   ]
  },
  {
   "cell_type": "markdown",
   "metadata": {},
   "source": [
    "How similar are the words \"town\" and \"house\"?"
   ]
  },
  {
   "cell_type": "code",
   "execution_count": 23,
   "metadata": {},
   "outputs": [
    {
     "name": "stderr",
     "output_type": "stream",
     "text": [
      "<ipython-input-23-344e9103bd36>:2: DeprecationWarning: Call to deprecated `similarity` (Method will be removed in 4.0.0, use self.wv.similarity() instead).\n",
      "  model_ted.similarity('town', 'house')\n"
     ]
    },
    {
     "data": {
      "text/plain": [
       "0.76200384"
      ]
     },
     "execution_count": 23,
     "metadata": {},
     "output_type": "execute_result"
    }
   ],
   "source": [
    "#YOUR CODE\n",
    "model_ted.similarity('town', 'house')"
   ]
  },
  {
   "cell_type": "markdown",
   "metadata": {
    "id": "p7I5G-KpqbfH"
   },
   "source": [
    "<h4>Exercise 4.1 (3 Points)</h4>\n",
    "Now that we have trained our own embedding, lets test some classical ideas: \n",
    "implement the following formula. Print out the 10 words, that are most similar to this formula: <br>\n",
    "$King-Man+Woman=???$\n",
    "There are two ways of computing similarity in word Embeddings:\n",
    " - https://tedboy.github.io/nlps/generated/generated/gensim.models.Word2Vec.most_similar.html\n",
    " - https://tedboy.github.io/nlps/generated/generated/gensim.models.Word2Vec.most_similar_cosmul.html\n",
    "You should try out both! In this case one of them is better, but both of them are valid methods for computing similarity in the word-space.\n"
   ]
  },
  {
   "cell_type": "code",
   "execution_count": 24,
   "metadata": {
    "id": "S0y_5MLlqiMx"
   },
   "outputs": [
    {
     "data": {
      "text/plain": [
       "[('president', 0.7872146964073181),\n",
       " ('german', 0.7791491746902466),\n",
       " ('james', 0.7754480242729187),\n",
       " ('nelson', 0.7706785798072815),\n",
       " ('french', 0.76863694190979),\n",
       " ('luther', 0.7665249109268188),\n",
       " ('named', 0.7607519030570984),\n",
       " ('obama', 0.752193033695221),\n",
       " ('former', 0.7511491179466248),\n",
       " ('thomas', 0.7472222447395325),\n",
       " ('martin', 0.7464367151260376),\n",
       " ('queen', 0.7434005737304688),\n",
       " ('poet', 0.740821123123169),\n",
       " ('mary', 0.7404306530952454),\n",
       " ('charles', 0.7389029264450073),\n",
       " ('japanese', 0.7376792430877686),\n",
       " ('john', 0.7370460629463196)]"
      ]
     },
     "execution_count": 24,
     "metadata": {},
     "output_type": "execute_result"
    }
   ],
   "source": [
    "#Your Implementation goes here!\n",
    "\n",
    "model_ted.wv.most_similar(positive=['woman', 'king'], negative=['man'], topn=17)\n"
   ]
  },
  {
   "cell_type": "markdown",
   "metadata": {},
   "source": [
    "The expected outcome (Queen) should be one of the top ten most similar words. But there are also a lot of words, that you would not expect. Think about where how these words might be connected to the formula. You do not have to write anything down for this task, just take your time and understand why some of the words (luther, mary, dr, president) might be in this list."
   ]
  },
  {
   "cell_type": "markdown",
   "metadata": {
    "id": "TMtpPOVtaBup"
   },
   "source": [
    "#### t-SNE visualization\n",
    "\n",
    "We will use the t-SNE algorithm, given belwo, for visualization. The so-called t-Distributed Stochastic Neighbor Embedding (t-SNE) is an unsupervised and non-linear machine learning technique. It is commonly used for visualizing high dimensional data (just like our high dimensional vectors). You do not have to understand the code, it's purpose is simply to give you an idea of how the data is arranged in high dimensional space."
   ]
  },
  {
   "cell_type": "markdown",
   "metadata": {},
   "source": [
    "<h4>Exercise 4.2 (2 Points)</h4>\n",
    "To use the t-SNE code below, first put a list of the top 100 words (as strings) into a variable `words_top_ted`. "
   ]
  },
  {
   "cell_type": "code",
   "execution_count": 26,
   "metadata": {},
   "outputs": [],
   "source": [
    "#Your implementation goes here!\n",
    "\n",
    "words_top_ted = model_ted.wv.index2entity[:100]"
   ]
  },
  {
   "cell_type": "markdown",
   "metadata": {},
   "source": [
    "The following code gets the corresponding vectors from the model, assuming it's called `model_ted`:"
   ]
  },
  {
   "cell_type": "code",
   "execution_count": 27,
   "metadata": {
    "id": "0-lLF1lZaBus",
    "outputId": "120e8597-a636-440e-ca76-b591eb4c2ab2"
   },
   "outputs": [
    {
     "name": "stderr",
     "output_type": "stream",
     "text": [
      "<ipython-input-27-44957c02f90d>:2: DeprecationWarning: Call to deprecated `__getitem__` (Method will be removed in 4.0.0, use self.wv.__getitem__() instead).\n",
      "  words_top_vec_ted = model_ted[words_top_ted]\n"
     ]
    }
   ],
   "source": [
    "# This assumes words_top_ted is a list of strings, the top 250 words\n",
    "words_top_vec_ted = model_ted[words_top_ted]"
   ]
  },
  {
   "cell_type": "markdown",
   "metadata": {},
   "source": [
    "The next few lines are for the t-SNE visualization."
   ]
  },
  {
   "cell_type": "code",
   "execution_count": 28,
   "metadata": {
    "id": "HeJF5ut9aBux"
   },
   "outputs": [],
   "source": [
    "from sklearn.manifold import TSNE \n",
    "tsne = TSNE(n_components=2, random_state=0)\n",
    "words_top_ted_tsne = tsne.fit_transform(words_top_vec_ted)"
   ]
  },
  {
   "cell_type": "code",
   "execution_count": 29,
   "metadata": {
    "id": "J2VgYLIZaBu2",
    "outputId": "0b9bbab8-6544-437b-a729-1cc4ebdc3d1d"
   },
   "outputs": [
    {
     "data": {
      "text/html": [
       "\n",
       "\n",
       "\n",
       "\n",
       "\n",
       "\n",
       "  <div class=\"bk-root\" id=\"7acce59f-f135-4be3-b698-e1bbfbe9ab8d\" data-root-id=\"1002\"></div>\n"
      ]
     },
     "metadata": {},
     "output_type": "display_data"
    },
    {
     "data": {
      "application/javascript": [
       "(function(root) {\n",
       "  function embed_document(root) {\n",
       "    \n",
       "  var docs_json = {\"d673ad27-d361-4074-9626-234bcb594bd8\":{\"roots\":{\"references\":[{\"attributes\":{\"below\":[{\"id\":\"1013\"}],\"center\":[{\"id\":\"1016\"},{\"id\":\"1020\"},{\"id\":\"1036\"}],\"left\":[{\"id\":\"1017\"}],\"renderers\":[{\"id\":\"1034\"}],\"title\":{\"id\":\"1003\"},\"toolbar\":{\"id\":\"1025\"},\"toolbar_location\":\"above\",\"x_range\":{\"id\":\"1005\"},\"x_scale\":{\"id\":\"1009\"},\"y_range\":{\"id\":\"1007\"},\"y_scale\":{\"id\":\"1011\"}},\"id\":\"1002\",\"subtype\":\"Figure\",\"type\":\"Plot\"},{\"attributes\":{\"source\":{\"id\":\"1030\"}},\"id\":\"1035\",\"type\":\"CDSView\"},{\"attributes\":{\"axis\":{\"id\":\"1013\"},\"ticker\":null},\"id\":\"1016\",\"type\":\"Grid\"},{\"attributes\":{\"formatter\":{\"id\":\"1042\"},\"ticker\":{\"id\":\"1018\"}},\"id\":\"1017\",\"type\":\"LinearAxis\"},{\"attributes\":{},\"id\":\"1014\",\"type\":\"BasicTicker\"},{\"attributes\":{\"axis\":{\"id\":\"1017\"},\"dimension\":1,\"ticker\":null},\"id\":\"1020\",\"type\":\"Grid\"},{\"attributes\":{},\"id\":\"1024\",\"type\":\"SaveTool\"},{\"attributes\":{},\"id\":\"1043\",\"type\":\"UnionRenderers\"},{\"attributes\":{},\"id\":\"1044\",\"type\":\"Selection\"},{\"attributes\":{},\"id\":\"1018\",\"type\":\"BasicTicker\"},{\"attributes\":{},\"id\":\"1023\",\"type\":\"ResetTool\"},{\"attributes\":{},\"id\":\"1040\",\"type\":\"BasicTickFormatter\"},{\"attributes\":{\"fill_alpha\":{\"value\":0.1},\"fill_color\":{\"value\":\"#1f77b4\"},\"line_alpha\":{\"value\":0.1},\"line_color\":{\"value\":\"#1f77b4\"},\"size\":{\"units\":\"screen\",\"value\":8},\"x\":{\"field\":\"x1\"},\"y\":{\"field\":\"x2\"}},\"id\":\"1033\",\"type\":\"Scatter\"},{\"attributes\":{},\"id\":\"1042\",\"type\":\"BasicTickFormatter\"},{\"attributes\":{},\"id\":\"1022\",\"type\":\"WheelZoomTool\"},{\"attributes\":{\"data\":{\"names\":[\"the\",\"and\",\"to\",\"of\",\"a\",\"that\",\"in\",\"i\",\"is\",\"you\",\"we\",\"it\",\"this\",\"so\",\"was\",\"for\",\"are\",\"have\",\"but\",\"they\",\"on\",\"its\",\"with\",\"what\",\"can\",\"about\",\"be\",\"as\",\"not\",\"at\",\"all\",\"my\",\"do\",\"one\",\"were\",\"people\",\"like\",\"if\",\"from\",\"there\",\"now\",\"our\",\"an\",\"just\",\"these\",\"or\",\"when\",\"because\",\"very\",\"me\",\"out\",\"he\",\"by\",\"them\",\"how\",\"know\",\"going\",\"up\",\"had\",\"more\",\"think\",\"thats\",\"see\",\"your\",\"their\",\"which\",\"would\",\"who\",\"really\",\"us\",\"get\",\"then\",\"im\",\"some\",\"time\",\"here\",\"world\",\"has\",\"dont\",\"actually\",\"into\",\"way\",\"where\",\"well\",\"will\",\"years\",\"things\",\"other\",\"no\",\"could\",\"go\",\"want\",\"been\",\"make\",\"right\",\"said\",\"those\",\"something\",\"first\",\"than\"],\"x1\":{\"__ndarray__\":\"X1E0QcibOUHZH1c/MHOOQY3Aj0GLYwNBOQPQQT0o3cAKWhbCmPIavOJmL7/X2jhB7j8hQRn+578ToR3CbuqwwQ49UsKUwgTAY8xGwJ3BnEDRUhlCgkoewpFs0D9ETLFBHb+3wTv1xsFpba/BvUz+QRE4f8Ge9k3CoiIYwayVVkL2/+jBHRUTQY2gQsK+cBNBHG7CQGpKxEFaBfxBVXetwDXlDsFMp8NBa639wB+ickDCOLE+0Oi1Qc9Vl0Gu/wRABckbQkc8zUHu+iFCrZTeQYBn4EEaKYJBvKMFwd27/cFgSxLCsFg+QvrSCMAzA1VCV8bvwahTCsKM6RvCwmMjQlmm9EEVL2ZB+ouHwWGSncHv2DZAx+GaQTfRGcIEdERBdVg/wmh0ysCwQ33BTZZjwMlbhcEMt4VA2EmtwV4V/UCi2wpCChw/we/ApUH4pv/APd7BwWWcZ8LPsyBB9bxGwc7NNkHeQYnBmj8UwsjD68GAsofByFk5wupqsL8hlcrBISOOQBYuf0EAv0dAGAosQg==\",\"dtype\":\"float32\",\"order\":\"little\",\"shape\":[100]},\"x2\":{\"__ndarray__\":\"H5NGQTxBNMD7zL5Bly8UQfJjnEGgpwzBN6UuQap4JMKhuInBM8IXwh5dN8LW4qjBg4lqwSHQsMAUosLBI5VTwXpc8cFlRCFCg1xFwcNcPsLD5grBCLMlwfJCzcERo7vBBwI9QkTWPsDT2VZBTQyIwXwctMCk3stB7OAOQdgMNMHq2P9ATMueQer83cFUJh3CrkG/QFPQ9MAFxkO9NImkwQBxCL7LvAlCQUDlQSUyOMCoin/CAWNCQL0xbsByFSPBN8PTwWsSNMJJT+RA1QwGwn9YqEHEUijCuVfuweW9ikEUEyRCjV8Kv+CBN0KPyElB7Ca2QT2jP8HFEYVBEuIWQj0JEEKmbiXBLjhcQoyPG8LLPIXBcEhDwjO+8kCRxy9AQHKKwc7igEG/arHBW6OmP8PffkAMUkNC5DcEQpS0LkDt2zFBdHdowfmJZMG4JeTALqJUQh+Lc8AUf+3BawFmwoI1+EEbwEZCvukmQHsDHUIqOJtBWy//QMBf9kAHhM3BAdF2wuQH2cH1u2NBcl67QQ==\",\"dtype\":\"float32\",\"order\":\"little\",\"shape\":[100]}},\"selected\":{\"id\":\"1044\"},\"selection_policy\":{\"id\":\"1043\"}},\"id\":\"1030\",\"type\":\"ColumnDataSource\"},{\"attributes\":{\"source\":{\"id\":\"1030\"},\"text\":{\"field\":\"names\"},\"text_align\":\"center\",\"text_color\":{\"value\":\"#555555\"},\"text_font_size\":{\"value\":\"8pt\"},\"x\":{\"field\":\"x1\"},\"y\":{\"field\":\"x2\"},\"y_offset\":{\"value\":6}},\"id\":\"1036\",\"type\":\"LabelSet\"},{\"attributes\":{},\"id\":\"1021\",\"type\":\"PanTool\"},{\"attributes\":{\"active_drag\":\"auto\",\"active_inspect\":\"auto\",\"active_multi\":null,\"active_scroll\":\"auto\",\"active_tap\":\"auto\",\"tools\":[{\"id\":\"1021\"},{\"id\":\"1022\"},{\"id\":\"1023\"},{\"id\":\"1024\"}]},\"id\":\"1025\",\"type\":\"Toolbar\"},{\"attributes\":{\"text\":\"word2vec T-SNE for most common words\"},\"id\":\"1003\",\"type\":\"Title\"},{\"attributes\":{\"formatter\":{\"id\":\"1040\"},\"ticker\":{\"id\":\"1014\"}},\"id\":\"1013\",\"type\":\"LinearAxis\"},{\"attributes\":{},\"id\":\"1009\",\"type\":\"LinearScale\"},{\"attributes\":{\"data_source\":{\"id\":\"1030\"},\"glyph\":{\"id\":\"1032\"},\"hover_glyph\":null,\"muted_glyph\":null,\"nonselection_glyph\":{\"id\":\"1033\"},\"selection_glyph\":null,\"view\":{\"id\":\"1035\"}},\"id\":\"1034\",\"type\":\"GlyphRenderer\"},{\"attributes\":{},\"id\":\"1005\",\"type\":\"DataRange1d\"},{\"attributes\":{},\"id\":\"1011\",\"type\":\"LinearScale\"},{\"attributes\":{\"fill_color\":{\"value\":\"#1f77b4\"},\"line_color\":{\"value\":\"#1f77b4\"},\"size\":{\"units\":\"screen\",\"value\":8},\"x\":{\"field\":\"x1\"},\"y\":{\"field\":\"x2\"}},\"id\":\"1032\",\"type\":\"Scatter\"},{\"attributes\":{},\"id\":\"1007\",\"type\":\"DataRange1d\"}],\"root_ids\":[\"1002\"]},\"title\":\"Bokeh Application\",\"version\":\"2.2.3\"}};\n",
       "  var render_items = [{\"docid\":\"d673ad27-d361-4074-9626-234bcb594bd8\",\"root_ids\":[\"1002\"],\"roots\":{\"1002\":\"7acce59f-f135-4be3-b698-e1bbfbe9ab8d\"}}];\n",
       "  root.Bokeh.embed.embed_items_notebook(docs_json, render_items);\n",
       "\n",
       "  }\n",
       "  if (root.Bokeh !== undefined) {\n",
       "    embed_document(root);\n",
       "  } else {\n",
       "    var attempts = 0;\n",
       "    var timer = setInterval(function(root) {\n",
       "      if (root.Bokeh !== undefined) {\n",
       "        clearInterval(timer);\n",
       "        embed_document(root);\n",
       "      } else {\n",
       "        attempts++;\n",
       "        if (attempts > 100) {\n",
       "          clearInterval(timer);\n",
       "          console.log(\"Bokeh: ERROR: Unable to run BokehJS code because BokehJS library is missing\");\n",
       "        }\n",
       "      }\n",
       "    }, 10, root)\n",
       "  }\n",
       "})(window);"
      ],
      "application/vnd.bokehjs_exec.v0+json": ""
     },
     "metadata": {
      "application/vnd.bokehjs_exec.v0+json": {
       "id": "1002"
      }
     },
     "output_type": "display_data"
    }
   ],
   "source": [
    "p = figure(tools=\"pan,wheel_zoom,reset,save\",\n",
    "           toolbar_location=\"above\",\n",
    "           title=\"word2vec T-SNE for most common words\")\n",
    "\n",
    "source = ColumnDataSource(data=dict(x1=words_top_ted_tsne[:,0],\n",
    "                                    x2=words_top_ted_tsne[:,1],\n",
    "                                    names=words_top_ted))\n",
    "\n",
    "p.scatter(x=\"x1\", y=\"x2\", size=8, source=source)\n",
    "\n",
    "labels = LabelSet(x=\"x1\", y=\"x2\", text=\"names\", y_offset=6,\n",
    "                  text_font_size=\"8pt\", text_color=\"#555555\",\n",
    "                  source=source, text_align='center')\n",
    "p.add_layout(labels)\n",
    "\n",
    "show(p)"
   ]
  },
  {
   "cell_type": "code",
   "execution_count": null,
   "metadata": {},
   "outputs": [],
   "source": []
  }
 ],
 "metadata": {
  "anaconda-cloud": {},
  "colab": {
   "collapsed_sections": [
    "Zavi0t3vaBvN"
   ],
   "name": "practical1.ipynb",
   "provenance": []
  },
  "kernelspec": {
   "display_name": "Python 3",
   "language": "python",
   "name": "python3"
  },
  "language_info": {
   "codemirror_mode": {
    "name": "ipython",
    "version": 3
   },
   "file_extension": ".py",
   "mimetype": "text/x-python",
   "name": "python",
   "nbconvert_exporter": "python",
   "pygments_lexer": "ipython3",
   "version": "3.6.8"
  }
 },
 "nbformat": 4,
 "nbformat_minor": 1
}
